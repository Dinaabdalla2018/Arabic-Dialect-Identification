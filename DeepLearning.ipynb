{
  "cells": [
    {
      "cell_type": "markdown",
      "metadata": {
        "id": "view-in-github",
        "colab_type": "text"
      },
      "source": [
        "<a href=\"https://colab.research.google.com/github/Dinaabdalla2018/Arabic-Dialect-Identification/blob/main/DeepLearning.ipynb\" target=\"_parent\"><img src=\"https://colab.research.google.com/assets/colab-badge.svg\" alt=\"Open In Colab\"/></a>"
      ]
    },
    {
      "cell_type": "markdown",
      "source": [
        "#Model consists of two main components: BiLSTM and a self Attention mechanism"
      ],
      "metadata": {
        "id": "Rfo5dKn2mI-_"
      }
    },
    {
      "cell_type": "markdown",
      "source": [
        "####Libraries__________"
      ],
      "metadata": {
        "id": "xUf4LT7wmWSI"
      }
    },
    {
      "cell_type": "code",
      "execution_count": 4,
      "metadata": {
        "id": "CJIInrC2ys-x",
        "colab": {
          "base_uri": "https://localhost:8080/"
        },
        "outputId": "a7b3b831-5e00-4c88-d25a-1af1a4c8958f"
      },
      "outputs": [
        {
          "output_type": "stream",
          "name": "stdout",
          "text": [
            "[nltk_data] Downloading package stopwords to /root/nltk_data...\n",
            "[nltk_data]   Unzipping corpora/stopwords.zip.\n",
            "[nltk_data] Downloading package punkt to /root/nltk_data...\n",
            "[nltk_data]   Unzipping tokenizers/punkt.zip.\n"
          ]
        }
      ],
      "source": [
        "from data_ import *        #call the file python data_ (contain All function related with preprocessing dataset)\n",
        "from keras.layers import *\n",
        "from keras.models import *\n",
        "from keras import backend as K\n",
        "import seaborn as sns\n",
        "import matplotlib.pyplot as plt\n",
        "from sklearn.metrics import classification_report, confusion_matrix, accuracy_score"
      ]
    },
    {
      "cell_type": "markdown",
      "source": [
        "###Call data"
      ],
      "metadata": {
        "id": "kOM_Erarmc_n"
      }
    },
    {
      "cell_type": "code",
      "execution_count": null,
      "metadata": {
        "id": "tKBCURDqy7M4"
      },
      "outputs": [],
      "source": [
        "data = data_(\"dialect_dataset.csv\",190280)                                # Call the dataset with 190280 rows randoms from total data\n",
        "data.Call_API(\"https://recruitment.aimtechnologies.co/ai-tasks\",190,280)  #  text from Api_link with 190 thousand and 280\n",
        "data.Transform_data('DL') # DL To Encode Y                                                   # transform data into number of vector"
      ]
    },
    {
      "cell_type": "code",
      "execution_count": null,
      "metadata": {
        "id": "wX8-Um6Jy7lE"
      },
      "outputs": [],
      "source": [
        "data.Split_Data()  # Split data into train&test"
      ]
    },
    {
      "cell_type": "code",
      "source": [
        "data.save_trans_models('feature.pkl', 'tfidftransformer.pkl')"
      ],
      "metadata": {
        "id": "v77w1esWy2-D"
      },
      "execution_count": null,
      "outputs": []
    },
    {
      "cell_type": "markdown",
      "source": [
        "##Define Model \n",
        "##Self Attention mechanism"
      ],
      "metadata": {
        "id": "P20__0SEmsk0"
      }
    },
    {
      "cell_type": "code",
      "execution_count": null,
      "metadata": {
        "id": "2WDveZcAZvAg"
      },
      "outputs": [],
      "source": [
        "class attention(Layer):\n",
        "    def __init__(self, return_sequences=False):\n",
        "        self.return_sequences = return_sequences\n",
        "        super(attention,self).__init__()\n",
        "\n",
        "    def build(self, input_shape):\n",
        "        self.W = self.add_weight(name=\"att_weight\", shape=(input_shape[-1],1),initializer=\"normal\")\n",
        "        self.b = self.add_weight(name=\"att_bias\",   shape=(input_shape[1],1), initializer=\"zeros\")\n",
        "        super(attention,self).build(input_shape)\n",
        "\n",
        "    def call(self, x):\n",
        "        e = K.tanh(K.dot(x,self.W)+self.b)\n",
        "        a = K.softmax(e, axis=1)\n",
        "        output = x*a\n",
        "        return K.sum(output, axis=1)"
      ]
    },
    {
      "cell_type": "markdown",
      "source": [
        "##Build ALL Model with \n",
        "* Embeding Layer\n",
        "* Bidirection LSTM\n",
        "* Softmax (LastLayer)"
      ],
      "metadata": {
        "id": "Y1IMeq0bovvY"
      }
    },
    {
      "cell_type": "code",
      "execution_count": null,
      "metadata": {
        "colab": {
          "base_uri": "https://localhost:8080/"
        },
        "id": "P2NAvFhJZvP2",
        "outputId": "f14286f6-6109-4f78-a65e-e23a06813325"
      },
      "outputs": [
        {
          "output_type": "stream",
          "name": "stdout",
          "text": [
            "Model: \"sequential_2\"\n",
            "_________________________________________________________________\n",
            " Layer (type)                Output Shape              Param #   \n",
            "=================================================================\n",
            " embedding_2 (Embedding)     (None, 420, 128)          19484672  \n",
            "                                                                 \n",
            " bidirectional_2 (Bidirectio  (None, 420, 180)         157680    \n",
            " nal)                                                            \n",
            "                                                                 \n",
            " attention_2 (attention)     (None, 180)               600       \n",
            "                                                                 \n",
            " dropout_2 (Dropout)         (None, 180)               0         \n",
            "                                                                 \n",
            " dense_2 (Dense)             (None, 18)                3258      \n",
            "                                                                 \n",
            "=================================================================\n",
            "Total params: 19,646,210\n",
            "Trainable params: 19,646,210\n",
            "Non-trainable params: 0\n",
            "_________________________________________________________________\n"
          ]
        }
      ],
      "source": [
        "model = Sequential()\n",
        "model.add(Embedding(data.xtrain.shape[0], 128, input_length=data.xtrain.shape[1]))\n",
        "model.add(Bidirectional(LSTM(90, return_sequences=True)))\n",
        "model.add(attention())\n",
        "model.add(Dropout(0.2))\n",
        "model.add(Dense(data.num_classes, activation='softmax'))\n",
        "model.compile(loss='categorical_crossentropy', optimizer='adam', metrics=['accuracy']) \n",
        "model.summary()"
      ]
    },
    {
      "cell_type": "markdown",
      "source": [
        "##Train Model"
      ],
      "metadata": {
        "id": "Ex1BQnaNsKfe"
      }
    },
    {
      "cell_type": "code",
      "execution_count": null,
      "metadata": {
        "colab": {
          "base_uri": "https://localhost:8080/"
        },
        "id": "h2hfq1k1aOp4",
        "outputId": "24c20c81-954e-4453-dfdc-f66965052b5c"
      },
      "outputs": [
        {
          "output_type": "stream",
          "name": "stdout",
          "text": [
            "Epoch 1/2\n",
            "15223/15223 [==============================] - 9337s 613ms/step - loss: 2.7749 - accuracy: 0.1251 - val_loss: 2.7720 - val_accuracy: 0.1247\n",
            "Epoch 2/2\n",
            "15223/15223 [==============================] - 9748s 640ms/step - loss: 2.7722 - accuracy: 0.1254 - val_loss: 2.7701 - val_accuracy: 0.1247\n"
          ]
        },
        {
          "output_type": "stream",
          "name": "stderr",
          "text": [
            "WARNING:absl:Found untraced functions such as lstm_cell_1_layer_call_fn, lstm_cell_1_layer_call_and_return_conditional_losses, lstm_cell_2_layer_call_fn, lstm_cell_2_layer_call_and_return_conditional_losses while saving (showing 4 of 4). These functions will not be directly callable after loading.\n"
          ]
        },
        {
          "output_type": "stream",
          "name": "stdout",
          "text": [
            "INFO:tensorflow:Assets written to: my_model.h1/assets\n"
          ]
        },
        {
          "output_type": "stream",
          "name": "stderr",
          "text": [
            "INFO:tensorflow:Assets written to: my_model.h1/assets\n",
            "WARNING:absl:<keras.layers.recurrent.LSTMCell object at 0x7f5cdcdba9d0> has the same name 'LSTMCell' as a built-in Keras object. Consider renaming <class 'keras.layers.recurrent.LSTMCell'> to avoid naming conflicts when loading with `tf.keras.models.load_model`. If renaming is not possible, pass the object in the `custom_objects` parameter of the load function.\n",
            "WARNING:absl:<keras.layers.recurrent.LSTMCell object at 0x7f5d4558edd0> has the same name 'LSTMCell' as a built-in Keras object. Consider renaming <class 'keras.layers.recurrent.LSTMCell'> to avoid naming conflicts when loading with `tf.keras.models.load_model`. If renaming is not possible, pass the object in the `custom_objects` parameter of the load function.\n"
          ]
        },
        {
          "output_type": "stream",
          "name": "stdout",
          "text": [
            "[2.774913787841797, 2.772219181060791]\n",
            "[0.12507225573062897, 0.12538759410381317]\n"
          ]
        }
      ],
      "source": [
        "history = model.fit(data.xtrain, data.ytrain, batch_size = 10, epochs = 2, validation_data=[data.xtest, data.ytest])\n",
        "#Save Model as .h1\n",
        "model.save('my_model.h1')\n",
        "#Print Loss of train - test\n",
        "print(history.history['loss'])\n",
        "#Print Accuracy of train - test\n",
        "print(history.history['accuracy']) "
      ]
    },
    {
      "cell_type": "markdown",
      "source": [
        "###Evaluation Model"
      ],
      "metadata": {
        "id": "KANxJKFtsQ_s"
      }
    },
    {
      "cell_type": "code",
      "source": [
        "pred = model.predict(data.xtest)"
      ],
      "metadata": {
        "id": "_zRG7NzjsBon"
      },
      "execution_count": null,
      "outputs": []
    },
    {
      "cell_type": "code",
      "source": [
        "y_pred = np.array([np.argmax(p) for p in pred]) #Convert into numbers of predict class "
      ],
      "metadata": {
        "id": "Dz6loBDrsCGV"
      },
      "execution_count": null,
      "outputs": []
    },
    {
      "cell_type": "code",
      "source": [
        "ytest = np.array([np.argmax(p) for p in data.ytest])"
      ],
      "metadata": {
        "id": "7mcl4URvs2sr"
      },
      "execution_count": null,
      "outputs": []
    },
    {
      "cell_type": "code",
      "source": [
        "print(classification_report(ytest, y_pred))\n",
        "print(\"Accuracy: \\n\", accuracy_score(ytest, y_pred))"
      ],
      "metadata": {
        "colab": {
          "base_uri": "https://localhost:8080/"
        },
        "id": "YBvmtlmzFJeg",
        "outputId": "64cd7010-666f-4acc-ed91-49e57d9787e4"
      },
      "execution_count": null,
      "outputs": [
        {
          "output_type": "stream",
          "name": "stdout",
          "text": [
            "              precision    recall  f1-score   support\n",
            "\n",
            "           0       0.00      0.00      0.00      2154\n",
            "           1       0.00      0.00      0.00      2133\n",
            "           2       0.00      0.00      0.00      1367\n",
            "           3       0.12      1.00      0.22      4745\n",
            "           4       0.00      0.00      0.00      1264\n",
            "           5       0.00      0.00      0.00      2271\n",
            "           6       0.00      0.00      0.00      3437\n",
            "           7       0.00      0.00      0.00      2390\n",
            "           8       0.00      0.00      0.00      3021\n",
            "           9       0.00      0.00      0.00       936\n",
            "          10       0.00      0.00      0.00      1547\n",
            "          11       0.00      0.00      0.00      3721\n",
            "          12       0.00      0.00      0.00      2655\n",
            "          13       0.00      0.00      0.00      2231\n",
            "          14       0.00      0.00      0.00      1238\n",
            "          15       0.00      0.00      0.00      1369\n",
            "          16       0.00      0.00      0.00       753\n",
            "          17       0.00      0.00      0.00       824\n",
            "\n",
            "    accuracy                           0.12     38056\n",
            "   macro avg       0.01      0.06      0.01     38056\n",
            "weighted avg       0.02      0.12      0.03     38056\n",
            "\n",
            "Accuracy: \n",
            " 0.12468467521547194\n"
          ]
        },
        {
          "output_type": "stream",
          "name": "stderr",
          "text": [
            "/usr/local/lib/python3.7/dist-packages/sklearn/metrics/_classification.py:1318: UndefinedMetricWarning: Precision and F-score are ill-defined and being set to 0.0 in labels with no predicted samples. Use `zero_division` parameter to control this behavior.\n",
            "  _warn_prf(average, modifier, msg_start, len(result))\n",
            "/usr/local/lib/python3.7/dist-packages/sklearn/metrics/_classification.py:1318: UndefinedMetricWarning: Precision and F-score are ill-defined and being set to 0.0 in labels with no predicted samples. Use `zero_division` parameter to control this behavior.\n",
            "  _warn_prf(average, modifier, msg_start, len(result))\n",
            "/usr/local/lib/python3.7/dist-packages/sklearn/metrics/_classification.py:1318: UndefinedMetricWarning: Precision and F-score are ill-defined and being set to 0.0 in labels with no predicted samples. Use `zero_division` parameter to control this behavior.\n",
            "  _warn_prf(average, modifier, msg_start, len(result))\n"
          ]
        }
      ]
    },
    {
      "cell_type": "code",
      "source": [
        "class_label = ['EG','PL','KW','LY','QA','JO','LB','SA','AE','BH','OM','DZ','SY','IQ','SD','MA','YE','TN']\n",
        "conf_mat    = confusion_matrix(ytest, y_pred)\n",
        "df          = pd.DataFrame(conf_mat, index = class_label, columns = class_label)\n",
        "plt.figure(figsize=(10,8))\n",
        "sns.heatmap(df, annot=True)\n",
        "plt.title('Confusion Matrix')\n",
        "plt.ylabel('Actal Values')\n",
        "plt.xlabel('Predicted Values')\n",
        "plt.show()"
      ],
      "metadata": {
        "colab": {
          "base_uri": "https://localhost:8080/",
          "height": 513
        },
        "id": "BjgE1mTyrW-0",
        "outputId": "f5324ef0-d4e6-4342-e4a5-2a528268a356"
      },
      "execution_count": null,
      "outputs": [
        {
          "output_type": "display_data",
          "data": {
            "text/plain": [
              "<Figure size 720x576 with 2 Axes>"
            ],
            "image/png": "[encoded data removed]"
          },
          "metadata": {
            "needs_background": "light"
          }
        }
      ]
    },
    {
      "cell_type": "code",
      "source": [
        "plt.hist(y_pred, bins=1)\n",
        "# x-axis limit from 0 to 1\n",
        "plt.xlim(0,5)\n",
        "plt.title('Histogram of predicted probabilities')\n",
        "plt.xlabel('Predicted probability of diabetes')\n",
        "plt.ylabel('Frequency')"
      ],
      "metadata": {
        "colab": {
          "base_uri": "https://localhost:8080/",
          "height": 313
        },
        "id": "6y9eb4EXrRo2",
        "outputId": "c8ff9eab-4111-404c-b41a-8771f00da178"
      },
      "execution_count": null,
      "outputs": [
        {
          "output_type": "execute_result",
          "data": {
            "text/plain": [
              "Text(0, 0.5, 'Frequency')"
            ]
          },
          "metadata": {},
          "execution_count": 79
        },
        {
          "output_type": "display_data",
          "data": {
            "text/plain": [
              "<Figure size 432x288 with 1 Axes>"
            ],
            "image/png": "[encoded data removed]"
          },
          "metadata": {
            "needs_background": "light"
          }
        }
      ]
    }
  ],
  "metadata": {
    "accelerator": "TPU",
    "colab": {
      "collapsed_sections": [],
      "name": "DeepLearning",
      "provenance": [],
      "include_colab_link": true
    },
    "kernelspec": {
      "display_name": "Python 3",
      "name": "python3"
    },
    "language_info": {
      "name": "python"
    }
  },
  "nbformat": 4,
  "nbformat_minor": 0
}