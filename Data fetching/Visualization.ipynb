{
  "cells": [
    {
      "cell_type": "markdown",
      "metadata": {
        "id": "9Bz6hORMOc3P"
      },
      "source": [
        "# Visualization Dataset Of Di"
      ]
    },
    {
      "cell_type": "markdown",
      "metadata": {
        "id": "S4iygHQzOt7v"
      },
      "source": [
        "## Call Dataset"
      ]
    },
    {
      "cell_type": "code",
      "execution_count": null,
      "metadata": {
        "colab": {
          "base_uri": "https://localhost:8080/"
        },
        "id": "xgCF1pQaOysF",
        "outputId": "c8bba3de-4e4c-479e-8b94-779737abbdf8"
      },
      "outputs": [
        {
          "name": "stdout",
          "output_type": "stream",
          "text": [
            "[nltk_data] Downloading package stopwords to /root/nltk_data...\n",
            "[nltk_data]   Package stopwords is already up-to-date!\n",
            "[nltk_data] Downloading package punkt to /root/nltk_data...\n",
            "[nltk_data]   Package punkt is already up-to-date!\n"
          ]
        }
      ],
      "source": [
        "from data_ import *"
      ]
    },
    {
      "cell_type": "code",
      "execution_count": null,
      "metadata": {
        "id": "gp5ybFCrOHvG"
      },
      "outputs": [],
      "source": [
        "data = data_(\"dialect_dataset.csv\",90200) # Class contain all method relate with data\n",
        "data.Call_API(\"https://recruitment.aimtechnologies.co/ai-tasks\", 90,200)\n",
        "data.Transform_data()"
      ]
    },
    {
      "cell_type": "code",
      "execution_count": null,
      "metadata": {
        "colab": {
          "base_uri": "https://localhost:8080/",
          "height": 318
        },
        "id": "szEa-vBvQ29F",
        "outputId": "acee6b6b-35b9-4225-edd4-a6b646ee0c98"
      },
      "outputs": [
        {
          "name": "stderr",
          "output_type": "stream",
          "text": [
            "No handles with labels found to put in legend.\n"
          ]
        },
        {
          "data": {
            "image/png": "[encoded data removed]",
            "text/plain": [
              "<Figure size 432x288 with 1 Axes>"
            ]
          },
          "metadata": {},
          "output_type": "display_data"
        }
      ],
      "source": [
        "import matplotlib.pyplot as plt\n",
        "plt.plot(data.data['dialect'], data.data['id'])\n",
        "plt.xlabel('Text')\n",
        "plt.ylabel('Dialect')\n",
        "plt.title('Dialect of different countries')\n",
        "plt.legend()\n",
        "plt.show()"
      ]
    },
    {
      "cell_type": "code",
      "execution_count": null,
      "metadata": {
        "colab": {
          "base_uri": "https://localhost:8080/",
          "height": 285
        },
        "id": "GFN1nSAXbz4m",
        "outputId": "36fdc9a7-8acb-41f2-c801-707fbd8ca2c1"
      },
      "outputs": [
        {
          "data": {
            "image/png": "[encoded data removed]",
            "text/plain": [
              "<Figure size 432x288 with 1 Axes>"
            ]
          },
          "metadata": {},
          "output_type": "display_data"
        }
      ],
      "source": [
        "import seaborn as sns\n",
        "sns.set_theme(style=\"darkgrid\")\n",
        "ax = sns.countplot(x=\"dialect\", data = data.data)"
      ]
    },
    {
      "cell_type": "code",
      "execution_count": null,
      "metadata": {
        "colab": {
          "base_uri": "https://localhost:8080/"
        },
        "id": "BpsOAFEkbP36",
        "outputId": "4823842c-8ec6-4667-c1f0-efc8ab8da219"
      },
      "outputs": [
        {
          "data": {
            "text/plain": [
              "EG    11291\n",
              "PL     8667\n",
              "KW     8311\n",
              "LY     7176\n",
              "QA     6148\n",
              "JO     5481\n",
              "LB     5290\n",
              "SA     5271\n",
              "BH     5227\n",
              "AE     5173\n",
              "OM     3843\n",
              "DZ     3218\n",
              "SY     3210\n",
              "IQ     3080\n",
              "SD     2819\n",
              "MA     2171\n",
              "YE     1986\n",
              "TN     1838\n",
              "Name: dialect, dtype: int64"
            ]
          },
          "execution_count": 6,
          "metadata": {},
          "output_type": "execute_result"
        }
      ],
      "source": [
        "data.data[\"dialect\"].value_counts()"
      ]
    },
    {
      "cell_type": "code",
      "execution_count": null,
      "metadata": {
        "colab": {
          "base_uri": "https://localhost:8080/",
          "height": 35
        },
        "id": "ZoqJ0-OYVld4",
        "outputId": "5d2b2440-217e-427f-eefa-3f464efe2e4c"
      },
      "outputs": [
        {
          "data": {
            "application/vnd.google.colaboratory.intrinsic+json": {
              "type": "string"
            },
            "text/plain": [
              "'لالا لقيته مسكر عديت لعبت سوني وتو هالوقت روحت'"
            ]
          },
          "execution_count": 8,
          "metadata": {},
          "output_type": "execute_result"
        }
      ],
      "source": [
        "data.clean_text('@HamadiElareibi لالا لقيته مسكر عديت لعبت سوني وتو هالوقت كيف روحت 😂😂')"
      ]
    },
    {
      "cell_type": "code",
      "execution_count": null,
      "metadata": {
        "colab": {
          "base_uri": "https://localhost:8080/"
        },
        "id": "gV5EjG7WWkJ1",
        "outputId": "f8b20596-394e-4b48-faeb-aafd35b205e8"
      },
      "outputs": [
        {
          "data": {
            "text/plain": [
              "array([[8, 3, 1, 6, 1, 1, 2, 2, 2, 2, 1, 5, 1, 1, 2, 5, 3]])"
            ]
          },
          "execution_count": 4,
          "metadata": {},
          "output_type": "execute_result"
        }
      ],
      "source": [
        "data.vectorizer.fit_transform(['لالا لقيته مسكر عديت لعبت سوني وتو هالوقت روحت']).toarray()"
      ]
    },
    {
      "cell_type": "code",
      "execution_count": null,
      "metadata": {
        "colab": {
          "base_uri": "https://localhost:8080/"
        },
        "id": "I-W03x-4XSGe",
        "outputId": "6dd79235-8508-44ae-9566-31104cd645bc"
      },
      "outputs": [
        {
          "data": {
            "text/plain": [
              "array([[0.57436653, 0.21538745, 0.07179582, 0.4307749 , 0.07179582,\n",
              "        0.07179582, 0.14359163, 0.14359163, 0.14359163, 0.14359163,\n",
              "        0.07179582, 0.35897908, 0.07179582, 0.07179582, 0.14359163,\n",
              "        0.35897908, 0.21538745]])"
            ]
          },
          "execution_count": 7,
          "metadata": {},
          "output_type": "execute_result"
        }
      ],
      "source": [
        "data.tfidf_transformer.fit_transform([[8, 3, 1, 6, 1, 1, 2, 2, 2, 2, 1, 5, 1, 1, 2, 5, 3]]).toarray()"
      ]
    },
    {
      "cell_type": "code",
      "execution_count": null,
      "metadata": {
        "id": "DwNe54fj5nVa"
      },
      "outputs": [],
      "source": [
        ""
      ]
    }
  ],
  "metadata": {
    "colab": {
      "collapsed_sections": [],
      "name": "Visualization.ipynb",
      "provenance": []
    },
    "kernelspec": {
      "display_name": "Python 3",
      "name": "python3"
    },
    "language_info": {
      "name": "python"
    }
  },
  "nbformat": 4,
  "nbformat_minor": 0
}